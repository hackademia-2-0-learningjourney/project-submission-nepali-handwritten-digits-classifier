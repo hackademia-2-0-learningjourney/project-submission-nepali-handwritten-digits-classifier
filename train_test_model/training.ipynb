{
  "cells": [
    {
      "cell_type": "code",
      "source": [
        "import Library\n",
        "from Library import NeuralNetwork,Relu,CategoricalCrossEntropyLoss,Dense,Softmax"
      ],
      "metadata": {
        "id": "7m9lnHSkSRHH"
      },
      "execution_count": 18,
      "outputs": []
    },
    {
      "cell_type": "code",
      "source": [
        "def load_data(path):\n",
        "\n",
        "  y_train=np.load(path+'arr_1.npy')\n",
        "\n",
        "  y_test=np.load(path+'arr_3.npy')\n",
        "  return to_categorical(y_train, num_classes=58),to_categorical(y_test, num_classes=58)"
      ],
      "metadata": {
        "id": "WKfCvcR-nMOF"
      },
      "execution_count": 19,
      "outputs": []
    },
    {
      "cell_type": "code",
      "source": [
        "X_train = np.load('/content/drive/MyDrive/train.npy')\n",
        "X_test=np.load('/content/drive/MyDrive/otput.npy')"
      ],
      "metadata": {
        "id": "kPV4KwADwz4u"
      },
      "execution_count": 20,
      "outputs": []
    },
    {
      "cell_type": "code",
      "source": [
        "y_train,y_test=load_data('/content/drive/MyDrive/')"
      ],
      "metadata": {
        "id": "d0ijKBHVxW6L"
      },
      "execution_count": 21,
      "outputs": []
    },
    {
      "cell_type": "code",
      "source": [
        "\n",
        "loss_function = CategoricalCrossEntropyLoss()\n",
        "learning_rate = 0.0001\n",
        "optimizer = 'adam'\n",
        "\n",
        "\n",
        "\n",
        "nn=NeuralNetwork(loss_function,learning_rate)\n",
        "nn.add(Dense(2048,128,Relu()))\n",
        "nn.add(Dense(128,58,Softmax(final=True)))\n",
        "\n",
        "\n",
        "\n",
        "\n",
        "batch_size = 30\n",
        "\n",
        "epochs = 25\n",
        "nn.fit(X_train, y_train, batch_size,epochs)\n"
      ],
      "metadata": {
        "colab": {
          "base_uri": "https://localhost:8080/"
        },
        "id": "ta_VfpvC2-tz",
        "outputId": "ff0fc7f8-e0e9-4fd1-a3eb-30f5d9a72a0d"
      },
      "execution_count": 25,
      "outputs": [
        {
          "output_type": "stream",
          "name": "stdout",
          "text": [
            "Epoch 1, Loss: 1.6606878974702421, accuracy=0.6732480818414341\n",
            "Epoch 2, Loss: 1.0904386659058063, accuracy=0.7719693094629182\n",
            "Epoch 3, Loss: 0.7874443264996676, accuracy=0.8301662404092097\n",
            "Epoch 4, Loss: 0.6499863032214444, accuracy=0.8557289002557588\n",
            "Epoch 5, Loss: 0.5700831188672623, accuracy=0.8708439897698258\n",
            "Epoch 6, Loss: 0.5170618925983338, accuracy=0.8810230179028193\n",
            "Epoch 7, Loss: 0.4787666220787611, accuracy=0.888452685422003\n",
            "Epoch 8, Loss: 0.44905079993355407, accuracy=0.8941560102301869\n",
            "Epoch 9, Loss: 0.4250736563291282, accuracy=0.8986061381074253\n",
            "Epoch 10, Loss: 0.4049339713895348, accuracy=0.9025319693094714\n",
            "Epoch 11, Loss: 0.38811888026338237, accuracy=0.9060613810741771\n",
            "Epoch 12, Loss: 0.37338327391564496, accuracy=0.9094884910486021\n",
            "Epoch 13, Loss: 0.3602020142672867, accuracy=0.9119693094629246\n",
            "Epoch 14, Loss: 0.3484456681403803, accuracy=0.9145140664961728\n",
            "Epoch 15, Loss: 0.33796864643128716, accuracy=0.9169053708439989\n",
            "Epoch 16, Loss: 0.32857650642369995, accuracy=0.9191176470588329\n",
            "Epoch 17, Loss: 0.32005306500829156, accuracy=0.921138107416889\n",
            "Epoch 18, Loss: 0.3121096645471118, accuracy=0.9229283887468129\n",
            "Epoch 19, Loss: 0.30489374725484286, accuracy=0.9246547314578106\n",
            "Epoch 20, Loss: 0.2981432526654889, accuracy=0.9261508951406748\n",
            "Epoch 21, Loss: 0.2918274236636011, accuracy=0.9275191815856875\n",
            "Epoch 22, Loss: 0.2860252891586086, accuracy=0.9289130434782702\n",
            "Epoch 23, Loss: 0.280583346074529, accuracy=0.9301534526854314\n",
            "Epoch 24, Loss: 0.27543396907379514, accuracy=0.931342710997452\n",
            "Epoch 25, Loss: 0.2706259750861726, accuracy=0.9326470588235397\n"
          ]
        }
      ]
    },
    {
      "cell_type": "code",
      "source": [],
      "metadata": {
        "colab": {
          "base_uri": "https://localhost:8080/"
        },
        "id": "7jolNn6Es4f1",
        "outputId": "deb39a0f-5ad4-44ff-ca43-668cce1c1427"
      },
      "execution_count": 27,
      "outputs": [
        {
          "output_type": "stream",
          "name": "stdout",
          "text": [
            "Model saved to model.pkl\n"
          ]
        }
      ]
    },
    {
      "cell_type": "code",
      "source": [],
      "metadata": {
        "id": "r8Nq64iMvUxP"
      },
      "execution_count": null,
      "outputs": []
    }
  ],
  "metadata": {
    "colab": {
      "provenance": []
    },
    "kernelspec": {
      "display_name": "Python 3",
      "name": "python3"
    },
    "language_info": {
      "name": "python"
    }
  },
  "nbformat": 4,
  "nbformat_minor": 0
}